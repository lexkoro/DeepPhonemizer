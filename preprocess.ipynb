{
 "cells": [
  {
   "cell_type": "code",
   "execution_count": 1,
   "metadata": {},
   "outputs": [],
   "source": [
    "from glob import glob\n",
    "import os\n",
    "# tsv files\n",
    "\n",
    "tsv_files = glob('/home/alex/projects/work_dir/wikipron/data/scrape/tsv/*.tsv')"
   ]
  },
  {
   "cell_type": "code",
   "execution_count": 17,
   "metadata": {},
   "outputs": [],
   "source": [
    "from glob import glob\n",
    "\n",
    "tsv_files = glob(\"/home/alex/projects/work_dir/wikipron/data/scrape/tsv/*.tsv\")\n",
    "train_data = []\n",
    "all_chars = set()\n",
    "all_phonemes = set()\n",
    "\n",
    "for f in tsv_files:\n",
    "    language_code = f.split(\"/\")[-1].split(\"_\")[0]\n",
    "    with open(\n",
    "        f,\n",
    "        \"r\",\n",
    "        encoding=\"utf-8\",\n",
    "    ) as f:\n",
    "        lines = f.readlines()\n",
    "    # Prepare data as tuples (lang, word, phoneme)\n",
    "    lines = [l.replace(\" \", \"\").replace(\"\\n\", \"\") for l in lines]\n",
    "    splits = [l.split(\"\\t\") for l in lines]\n",
    "    for grapheme, phoneme in splits:\n",
    "        if len(grapheme) > 0 and len(phoneme) > 0:\n",
    "            all_chars.update(grapheme)\n",
    "            all_phonemes.update(phoneme)\n",
    "            train_data.append((language_code, grapheme, phoneme))"
   ]
  },
  {
   "cell_type": "code",
   "execution_count": 18,
   "metadata": {},
   "outputs": [],
   "source": [
    "# take 0.01 (max 1000) of the data from train_grouped_by_lang per language for validation and remove it from train\n",
    "import random\n",
    "from collections import defaultdict\n",
    "\n",
    "train_grouped_by_lang = defaultdict(list)\n",
    "validate_grouped_by_lang = defaultdict(list)\n",
    "\n",
    "for lang, word, phoneme in train_data:\n",
    "    train_grouped_by_lang[lang].append((word, phoneme))\n",
    "\n",
    "for lang, data in train_grouped_by_lang.items():\n",
    "    random.shuffle(data)\n",
    "    n = min(1000, int(len(data) * 0.01))\n",
    "    validate_grouped_by_lang[lang].extend(data[:n])\n",
    "    train_grouped_by_lang[lang] = data[n:]\n"
   ]
  },
  {
   "cell_type": "code",
   "execution_count": 19,
   "metadata": {},
   "outputs": [],
   "source": [
    "train_data = []\n",
    "validation_data = []\n",
    "for lang, data in train_grouped_by_lang.items():\n",
    "    for grapheme, phoneme in data:\n",
    "        train_data.append((lang, grapheme, phoneme))\n",
    "        \n",
    "for lang, data in validate_grouped_by_lang.items():\n",
    "    for grapheme, phoneme in data:\n",
    "        validation_data.append((lang, grapheme, phoneme))"
   ]
  },
  {
   "cell_type": "code",
   "execution_count": null,
   "metadata": {},
   "outputs": [],
   "source": [
    "print(\"\".join(list(all_chars)))"
   ]
  },
  {
   "cell_type": "code",
   "execution_count": null,
   "metadata": {},
   "outputs": [],
   "source": [
    "print(list(all_phonemes))"
   ]
  },
  {
   "cell_type": "code",
   "execution_count": null,
   "metadata": {},
   "outputs": [],
   "source": [
    "from dp.phonemizer import Phonemizer\n",
    "\n",
    "if __name__ == \"__main__\":\n",
    "\n",
    "    checkpoint_path = \"checkpoints/best_model_no_optim.pt\"\n",
    "    phonemizer = Phonemizer.from_checkpoint(checkpoint_path)\n",
    "\n",
    "    sentences = [\n",
    "        \"Aus einem fernen Land, von dem du wahrscheinlich noch nie etwas gehört hast, Marvin.\",\n",
    "        \"Moment, woher kennst du meinen Namen?\",\n",
    "        \"Ich bin eine gute Zuhörerin und hier unter Deck ist es nicht gerade geräumig.\",\n",
    "        \"Du scheinst ein netter Junge zu sein. Ich habe ein Angebot für dich.\",\n",
    "        \"Siehst du den Mistkerl, der die Pfeile schnitzt? Dieses Arschloch hat meine Schatulle genommen und sie bei seiner Beute versteckt. Ich habe gesehen, wie er damit im Frachtraum verschwunden ist.\",\n",
    "        \"Ich dachte, er würde meine Schatulle in einer Truhe verstecken, aber dann konnte ich das laute Knarzen von Schiffsplanken hören. Könntest du dich im Frachtraum mal umsehen und schauen, ob es dort ein Versteck gibt?\",\n",
    "        \"Ich habe deine Schatulle gefunden.\",\n",
    "        \"Das ist ja grossartig! Vielen Dank, mein Junge!\",\n",
    "        \"Im Moment habe ich leider keine Möglichkeit dich für deine Hilfe zu bezahlen. Aber ich verspreche dir, sobald wir auf Archolos sind sorge ich dafür, dass meine Freunde dich entlohnen!\"\n",
    "        \"Sieht aus, als wären wir bald da.\",\n",
    "        \"Woher willst du das wissen?\",\n",
    "        \"WAS SOLL DAS?\",\n",
    "        \"Das spiel heisst Gothic.\",\n",
    "    ]\n",
    "\n",
    "    for text in sentences:\n",
    "        result = phonemizer.phonemise_list([text], lang=\"deu\")\n",
    "        print(\"_\" * 100)\n",
    "        print(text)\n",
    "        print(result.phonemes)\n"
   ]
  }
 ],
 "metadata": {
  "kernelspec": {
   "display_name": ".venv",
   "language": "python",
   "name": "python3"
  },
  "language_info": {
   "codemirror_mode": {
    "name": "ipython",
    "version": 3
   },
   "file_extension": ".py",
   "mimetype": "text/x-python",
   "name": "python",
   "nbconvert_exporter": "python",
   "pygments_lexer": "ipython3",
   "version": "3.10.4"
  }
 },
 "nbformat": 4,
 "nbformat_minor": 2
}
