{
 "cells": [
  {
   "cell_type": "code",
   "execution_count": 2,
   "metadata": {},
   "outputs": [],
   "source": [
    "from dp.model.model import AutoregressiveTransformer\n",
    "\n",
    "\n",
    "transformer = AutoregressiveTransformer(\n",
    "        encoder_vocab_size=63,\n",
    "        decoder_vocab_size=78,\n",
    "        end_index=77,\n",
    "        d_model=512,\n",
    "        d_fft=512 * 4,\n",
    "        encoder_layers=6,\n",
    "        decoder_layers=6,\n",
    "        dropout=0.1,\n",
    "        heads=8,\n",
    ")"
   ]
  },
  {
   "cell_type": "code",
   "execution_count": null,
   "metadata": {},
   "outputs": [],
   "source": [
    "transformer"
   ]
  }
 ],
 "metadata": {
  "kernelspec": {
   "display_name": "Python 3",
   "language": "python",
   "name": "python3"
  },
  "language_info": {
   "codemirror_mode": {
    "name": "ipython",
    "version": 3
   },
   "file_extension": ".py",
   "mimetype": "text/x-python",
   "name": "python",
   "nbconvert_exporter": "python",
   "pygments_lexer": "ipython3",
   "version": "3.10.12"
  }
 },
 "nbformat": 4,
 "nbformat_minor": 2
}
